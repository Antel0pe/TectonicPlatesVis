{
  "nbformat": 4,
  "nbformat_minor": 0,
  "metadata": {
    "colab": {
      "provenance": []
    },
    "kernelspec": {
      "name": "python3",
      "display_name": "Python 3"
    },
    "language_info": {
      "name": "python"
    }
  },
  "cells": [
    {
      "cell_type": "code",
      "execution_count": null,
      "metadata": {
        "id": "YXo8UevDaLA5"
      },
      "outputs": [],
      "source": [
        "import json\n",
        "\n",
        "with open('10.json', 'r') as f:\n",
        "    data = json.load(f)"
      ]
    },
    {
      "cell_type": "code",
      "source": [
        "import colorsys\n",
        "\n",
        "def get_taxonomy_color(record):\n",
        "    # Return white for non-mammals\n",
        "    if record['cll'] != 'Mammalia':\n",
        "        return '#FFFFFF'\n",
        "\n",
        "    # Get taxonomic info with fallbacks\n",
        "    order = (record['odl'] if record['odl'] != 'NO_ORDER_SPECIFIED' else 'Unknown') if 'odl' in record else 'Unknown'\n",
        "    family = (record['fml'] if record['fml'] != 'NO_FAMILY_SPECIFIED' else order) if 'fml' in record else order\n",
        "    genus = (record['gnl'] if record['gnl'] != 'NO_GENUS_SPECIFIED' else family) if 'gnl' in record else family\n",
        "\n",
        "    # Generate HSV values from hashes\n",
        "    hue = abs(hash(order)) % 360 / 360.0        # 0-1 (full hue range)\n",
        "    saturation = 0.5 + (abs(hash(family)) % 35) / 100.0  # 0.5-0.85 (15% range)\n",
        "    value = 0.45 + (abs(hash(genus)) % 10) / 100.0   # 0.45-0.55 (10% range)\n",
        "\n",
        "    # Convert HSV to RGB\n",
        "    rgb = colorsys.hsv_to_rgb(hue, saturation, value)\n",
        "\n",
        "    # Convert RGB to hex\n",
        "    hex_color = '#{:02x}{:02x}{:02x}'.format(\n",
        "        int(rgb[0] * 255),\n",
        "        int(rgb[1] * 255),\n",
        "        int(rgb[2] * 255)\n",
        "    )\n",
        "\n",
        "    return hex_color"
      ],
      "metadata": {
        "id": "S8_q5JGcaqFN"
      },
      "execution_count": null,
      "outputs": []
    },
    {
      "cell_type": "code",
      "source": [
        "data[0]"
      ],
      "metadata": {
        "colab": {
          "base_uri": "https://localhost:8080/"
        },
        "id": "svvBxNkSaq75",
        "outputId": "8dbd2ae9-acdd-4b40-cb22-0c1f09f05784"
      },
      "execution_count": null,
      "outputs": [
        {
          "output_type": "execute_result",
          "data": {
            "text/plain": [
              "{'oid': 'occ:4451',\n",
              " 'cid': 'col:32050',\n",
              " 'tna': 'Brabovus nanincisus',\n",
              " 'rnk': 3,\n",
              " 'tid': 'txn:374469',\n",
              " 'oei': 'Pliocene',\n",
              " 'eag': 5.333,\n",
              " 'lag': 2.58,\n",
              " 'rid': 'ref:4451',\n",
              " 'lng': '35.130001',\n",
              " 'lat': '-3.130000',\n",
              " 'phl': 'Chordata',\n",
              " 'cll': 'Mammalia',\n",
              " 'odl': 'Artiodactyla',\n",
              " 'fml': 'Bovidae',\n",
              " 'gnl': 'Brabovus'}"
            ]
          },
          "metadata": {},
          "execution_count": 4
        }
      ]
    },
    {
      "cell_type": "code",
      "source": [
        "[get_taxonomy_color(i) for i in data]"
      ],
      "metadata": {
        "id": "UG4FC9miavVK"
      },
      "execution_count": null,
      "outputs": []
    },
    {
      "cell_type": "code",
      "source": [
        "import colorsys\n",
        "\n",
        "def print_color(color, text):\n",
        "    # Convert hex to RGB\n",
        "    r = int(color[1:3], 16)\n",
        "    g = int(color[3:5], 16)\n",
        "    b = int(color[5:7], 16)\n",
        "\n",
        "    # Print colored background with hex code\n",
        "    print(f'\\033[48;2;{r};{g};{b}m{\" \" * 20}\\033[0m {color} - {text}')\n",
        "\n",
        "test_records = [\n",
        "    {\n",
        "        'cll': 'Mammalia',\n",
        "        'odl': 'Carnivora',\n",
        "        'fml': 'Felidae',\n",
        "        'gnl': 'Panthera'\n",
        "    },\n",
        "    {\n",
        "        'cll': 'Mammalia',\n",
        "        'odl': 'Carnivora',\n",
        "        'fml': 'Felidae',\n",
        "        'gnl': 'Felis'\n",
        "    },\n",
        "    {\n",
        "        'cll': 'Mammalia',\n",
        "        'odl': 'Carnivora',\n",
        "        'fml': 'Canidae',\n",
        "        'gnl': 'Canis'\n",
        "    },\n",
        "    {\n",
        "        'cll': 'Mammalia',\n",
        "        'odl': 'Sirenia',\n",
        "        'fml': 'Dugongidae',\n",
        "        'gnl': 'Dugong'\n",
        "    },\n",
        "    {\n",
        "        'cll': 'Reptilia',\n",
        "        'odl': 'Squamata',\n",
        "        'fml': 'Viperidae',\n",
        "        'gnl': 'Vipera'\n",
        "    }\n",
        "]\n",
        "\n",
        "print(\"\\nTesting color generation:\")\n",
        "print(\"-\" * 50)\n",
        "\n",
        "for record in test_records:\n",
        "    color = get_taxonomy_color(record)\n",
        "    text = f\"{record['odl']} - {record['fml']} - {record['gnl']}\"\n",
        "    print_color(color, text)\n",
        "\n",
        "print(\"\\nTesting consistency (same input should give same color):\")\n",
        "print(\"-\" * 50)\n",
        "color1 = get_taxonomy_color(test_records[0])\n",
        "color2 = get_taxonomy_color(test_records[0])\n",
        "print_color(color1, \"First call\")\n",
        "print_color(color2, \"Second call\")\n",
        "print(f\"Colors match: {color1 == color2}\")"
      ],
      "metadata": {
        "colab": {
          "base_uri": "https://localhost:8080/"
        },
        "id": "Z7GYjUDDc7uW",
        "outputId": "474946ce-cb45-4990-97a2-0f9c99e614e2"
      },
      "execution_count": 37,
      "outputs": [
        {
          "output_type": "stream",
          "name": "stdout",
          "text": [
            "\n",
            "Testing color generation:\n",
            "--------------------------------------------------\n",
            "\u001b[48;2;25;127;78m                    \u001b[0m #197f4e - Carnivora - Felidae - Panthera\n",
            "\u001b[48;2;27;135;82m                    \u001b[0m #1b8752 - Carnivora - Felidae - Felis\n",
            "\u001b[48;2;34;124;81m                    \u001b[0m #227c51 - Carnivora - Canidae - Canis\n",
            "\u001b[48;2;91;122;53m                    \u001b[0m #5b7a35 - Sirenia - Dugongidae - Dugong\n",
            "\u001b[48;2;255;255;255m                    \u001b[0m #FFFFFF - Squamata - Viperidae - Vipera\n",
            "\n",
            "Testing consistency (same input should give same color):\n",
            "--------------------------------------------------\n",
            "\u001b[48;2;25;127;78m                    \u001b[0m #197f4e - First call\n",
            "\u001b[48;2;25;127;78m                    \u001b[0m #197f4e - Second call\n",
            "Colors match: True\n"
          ]
        }
      ]
    },
    {
      "cell_type": "code",
      "source": [
        "import json\n",
        "\n",
        "with open('10.json', 'r') as f:\n",
        "    data = json.load(f)"
      ],
      "metadata": {
        "id": "321p_lTqI4kj"
      },
      "execution_count": null,
      "outputs": []
    },
    {
      "cell_type": "code",
      "source": [
        "from tqdm import tqdm\n",
        "\n",
        "for i in tqdm(range(0, 410+1, 10)):\n",
        "    with open(f'/content/data/{i}.json', 'r') as f:\n",
        "        data = json.load(f)\n",
        "\n",
        "        for r in data:\n",
        "            r['color'] = get_taxonomy_color(r)\n",
        "    with open(f'/content/color/{i}.json', 'w') as f:\n",
        "        json.dump(data, f)"
      ],
      "metadata": {
        "colab": {
          "base_uri": "https://localhost:8080/"
        },
        "id": "_iXw7JzyI7sP",
        "outputId": "ab14c2eb-d9cd-4ff2-f234-87d917363e56"
      },
      "execution_count": 49,
      "outputs": [
        {
          "output_type": "stream",
          "name": "stderr",
          "text": [
            "100%|██████████| 42/42 [00:04<00:00,  9.59it/s]\n"
          ]
        }
      ]
    },
    {
      "cell_type": "code",
      "source": [
        "!zip -r color.zip /content/color"
      ],
      "metadata": {
        "colab": {
          "base_uri": "https://localhost:8080/"
        },
        "id": "3bNbXFmIKC8L",
        "outputId": "fe596286-3dea-4cdb-90d0-77a77efb137e"
      },
      "execution_count": 50,
      "outputs": [
        {
          "output_type": "stream",
          "name": "stdout",
          "text": [
            "  adding: content/color/ (stored 0%)\n",
            "  adding: content/color/350.json (stored 0%)\n",
            "  adding: content/color/320.json (stored 0%)\n",
            "  adding: content/color/270.json (deflated 61%)\n",
            "  adding: content/color/10.json (deflated 91%)\n",
            "  adding: content/color/380.json (stored 0%)\n",
            "  adding: content/color/260.json (deflated 88%)\n",
            "  adding: content/color/300.json (stored 0%)\n",
            "  adding: content/color/120.json (deflated 89%)\n",
            "  adding: content/color/290.json (stored 0%)\n",
            "  adding: content/color/250.json (deflated 90%)\n",
            "  adding: content/color/30.json (deflated 90%)\n",
            "  adding: content/color/70.json (deflated 92%)\n",
            "  adding: content/color/410.json (stored 0%)\n",
            "  adding: content/color/160.json (deflated 88%)\n",
            "  adding: content/color/310.json (stored 0%)\n",
            "  adding: content/color/130.json (deflated 87%)\n",
            "  adding: content/color/190.json (deflated 83%)\n",
            "  adding: content/color/340.json (stored 0%)\n",
            "  adding: content/color/140.json (deflated 84%)\n",
            "  adding: content/color/220.json (deflated 75%)\n",
            "  adding: content/color/20.json (deflated 91%)\n",
            "  adding: content/color/60.json (deflated 93%)\n",
            "  adding: content/color/370.json (stored 0%)\n",
            "  adding: content/color/40.json (deflated 91%)\n",
            "  adding: content/color/240.json (deflated 89%)\n",
            "  adding: content/color/330.json (stored 0%)\n",
            "  adding: content/color/100.json (deflated 92%)\n",
            "  adding: content/color/180.json (deflated 80%)\n",
            "  adding: content/color/280.json (stored 0%)\n",
            "  adding: content/color/80.json (deflated 92%)\n",
            "  adding: content/color/230.json (stored 0%)\n",
            "  adding: content/color/150.json (deflated 91%)\n",
            "  adding: content/color/200.json (deflated 91%)\n",
            "  adding: content/color/170.json (deflated 90%)\n",
            "  adding: content/color/0.json (deflated 92%)\n",
            "  adding: content/color/360.json (stored 0%)\n",
            "  adding: content/color/110.json (deflated 85%)\n",
            "  adding: content/color/210.json (deflated 90%)\n",
            "  adding: content/color/50.json (deflated 92%)\n",
            "  adding: content/color/90.json (deflated 91%)\n",
            "  adding: content/color/390.json (stored 0%)\n",
            "  adding: content/color/400.json (stored 0%)\n"
          ]
        }
      ]
    }
  ]
}
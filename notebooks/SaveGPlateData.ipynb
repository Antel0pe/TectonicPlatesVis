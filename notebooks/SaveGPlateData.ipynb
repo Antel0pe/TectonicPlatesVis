{
  "nbformat": 4,
  "nbformat_minor": 0,
  "metadata": {
    "colab": {
      "provenance": []
    },
    "kernelspec": {
      "name": "python3",
      "display_name": "Python 3"
    },
    "language_info": {
      "name": "python"
    }
  },
  "cells": [
    {
      "cell_type": "code",
      "source": [
        "import requests\n",
        "import json\n",
        "\n",
        "url = lambda a: f\"https://gws.gplates.org/reconstruct/coastlines/?time={a}&model=ZAHIROVIC2022\"\n",
        "for i in range(410,-1, -10):\n",
        "    response = requests.get(url(i))\n",
        "\n",
        "    if response.status_code == 200:\n",
        "        print(\"Request successful!\")\n",
        "        try:\n",
        "            data = response.json()\n",
        "            with open(f'/content/data/{i}.geojson', 'w') as f:\n",
        "                json.dump(data, f, indent=2)\n",
        "        except json.JSONDecodeError:\n",
        "            print(\"Error: Invalid JSON response\")\n",
        "            print(response.text)\n",
        "    else:\n",
        "        print(f\"Request failed with status code: {response.status_code}\")\n",
        "        print(response.text) # check for error message\n"
      ],
      "metadata": {
        "colab": {
          "base_uri": "https://localhost:8080/"
        },
        "id": "skrvlHKawUtf",
        "outputId": "6d7b5eb5-f777-40be-bc74-0a879c957061"
      },
      "execution_count": null,
      "outputs": [
        {
          "output_type": "stream",
          "name": "stdout",
          "text": [
            "Request successful!\n",
            "Request successful!\n",
            "Request successful!\n",
            "Request successful!\n",
            "Request successful!\n",
            "Request successful!\n",
            "Request successful!\n",
            "Request successful!\n",
            "Request successful!\n",
            "Request successful!\n",
            "Request successful!\n",
            "Request successful!\n",
            "Request successful!\n",
            "Request successful!\n",
            "Request successful!\n",
            "Request successful!\n",
            "Request successful!\n",
            "Request successful!\n",
            "Request successful!\n",
            "Request successful!\n",
            "Request successful!\n",
            "Request successful!\n",
            "Request successful!\n",
            "Request successful!\n",
            "Request successful!\n",
            "Request successful!\n",
            "Request successful!\n",
            "Request successful!\n",
            "Request successful!\n",
            "Request successful!\n",
            "Request successful!\n",
            "Request successful!\n",
            "Request successful!\n",
            "Request successful!\n",
            "Request successful!\n",
            "Request successful!\n"
          ]
        }
      ]
    },
    {
      "cell_type": "code",
      "source": [
        "!zip -r /content/data.zip /content/data"
      ],
      "metadata": {
        "colab": {
          "base_uri": "https://localhost:8080/"
        },
        "id": "J-7H_d_Uxydc",
        "outputId": "d75e8d5f-ae2c-4b07-a11e-ac94ab194f26"
      },
      "execution_count": 5,
      "outputs": [
        {
          "output_type": "stream",
          "name": "stdout",
          "text": [
            "  adding: content/data/ (stored 0%)\n",
            "  adding: content/data/350.json (stored 0%)\n",
            "  adding: content/data/320.json (stored 0%)\n",
            "  adding: content/data/270.json (deflated 66%)\n",
            "  adding: content/data/10.json (deflated 93%)\n",
            "  adding: content/data/380.json (stored 0%)\n",
            "  adding: content/data/260.json (deflated 89%)\n",
            "  adding: content/data/300.json (stored 0%)\n",
            "  adding: content/data/120.json (deflated 90%)\n",
            "  adding: content/data/290.json (stored 0%)\n",
            "  adding: content/data/250.json (deflated 91%)\n",
            "  adding: content/data/30.json (deflated 92%)\n",
            "  adding: content/data/70.json (deflated 94%)\n",
            "  adding: content/data/410.json (stored 0%)\n",
            "  adding: content/data/160.json (deflated 90%)\n",
            "  adding: content/data/310.json (stored 0%)\n",
            "  adding: content/data/130.json (deflated 89%)\n",
            "  adding: content/data/190.json (deflated 85%)\n",
            "  adding: content/data/340.json (stored 0%)\n",
            "  adding: content/data/140.json (deflated 86%)\n",
            "  adding: content/data/220.json (deflated 78%)\n",
            "  adding: content/data/.ipynb_checkpoints/ (stored 0%)\n",
            "  adding: content/data/20.json (deflated 92%)\n",
            "  adding: content/data/60.json (deflated 94%)\n",
            "  adding: content/data/370.json (stored 0%)\n",
            "  adding: content/data/40.json (deflated 93%)\n",
            "  adding: content/data/240.json (deflated 90%)\n",
            "  adding: content/data/330.json (stored 0%)\n",
            "  adding: content/data/100.json (deflated 93%)\n",
            "  adding: content/data/180.json (deflated 83%)\n",
            "  adding: content/data/280.json (stored 0%)\n",
            "  adding: content/data/80.json (deflated 93%)\n",
            "  adding: content/data/230.json (stored 0%)\n",
            "  adding: content/data/150.json (deflated 92%)\n",
            "  adding: content/data/200.json (deflated 92%)\n",
            "  adding: content/data/170.json (deflated 91%)\n",
            "  adding: content/data/360.json (stored 0%)\n",
            "  adding: content/data/110.json (deflated 87%)\n",
            "  adding: content/data/210.json (deflated 91%)\n",
            "  adding: content/data/50.json (deflated 93%)\n",
            "  adding: content/data/90.json (deflated 93%)\n",
            "  adding: content/data/390.json (stored 0%)\n",
            "  adding: content/data/400.json (stored 0%)\n"
          ]
        }
      ]
    },
    {
      "cell_type": "code",
      "source": [
        "import requests\n",
        "import json\n",
        "\n",
        "url = lambda maxMa,minMa: f\"https://paleobiodb.org/data1.2/occs/list.json?base_name=cynodontia,mammalia&max_ma={maxMa}&min_ma={minMa}&show=coords,class\"\n",
        "for i in range(10,-1, -10):\n",
        "    upperTime = i\n",
        "    lowerTime = i - 9\n",
        "    if upperTime == 0:\n",
        "        upperTime = 1\n",
        "        lowerTime = 0\n",
        "    print(f\"Upper time: {upperTime}, Lower time: {lowerTime}\")\n",
        "    response = requests.get(url(upperTime, lowerTime))\n",
        "\n",
        "    if response.status_code == 200:\n",
        "        print(\"Request successful!\")\n",
        "        try:\n",
        "            data = response.json()['records']\n",
        "            with open(f'/content/data/{i}.json', 'w') as f:\n",
        "                json.dump(data, f, indent=2)\n",
        "        except json.JSONDecodeError:\n",
        "            print(\"Error: Invalid JSON response\")\n",
        "            print(response.text)\n",
        "    else:\n",
        "        print(f\"Request failed with status code: {response.status_code}\")\n",
        "        print(response.text) # check for error message\n"
      ],
      "metadata": {
        "colab": {
          "base_uri": "https://localhost:8080/"
        },
        "id": "_8DLEEOZMI0w",
        "outputId": "491c389b-045f-4856-b022-6fe230262203"
      },
      "execution_count": 6,
      "outputs": [
        {
          "output_type": "stream",
          "name": "stdout",
          "text": [
            "Upper time: 10, Lower time: 1\n",
            "Request successful!\n",
            "Upper time: 1, Lower time: 0\n",
            "Request successful!\n"
          ]
        }
      ]
    }
  ]
}
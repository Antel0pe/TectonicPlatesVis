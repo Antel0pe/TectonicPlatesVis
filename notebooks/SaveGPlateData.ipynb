{
  "nbformat": 4,
  "nbformat_minor": 0,
  "metadata": {
    "colab": {
      "provenance": []
    },
    "kernelspec": {
      "name": "python3",
      "display_name": "Python 3"
    },
    "language_info": {
      "name": "python"
    }
  },
  "cells": [
    {
      "cell_type": "code",
      "source": [
        "import requests\n",
        "import json\n",
        "\n",
        "url = lambda a: f\"https://gws.gplates.org/reconstruct/coastlines/?time={a}&model=ZAHIROVIC2022\"\n",
        "for i in range(350,-1, -10):\n",
        "    response = requests.get(url(i))\n",
        "\n",
        "    if response.status_code == 200:\n",
        "        print(\"Request successful!\")\n",
        "        try:\n",
        "            data = response.json()\n",
        "            with open(f'/content/data/{i}.geojson', 'w') as f:\n",
        "                json.dump(data, f, indent=2)\n",
        "        except json.JSONDecodeError:\n",
        "            print(\"Error: Invalid JSON response\")\n",
        "            print(response.text)\n",
        "    else:\n",
        "        print(f\"Request failed with status code: {response.status_code}\")\n",
        "        print(response.text) # check for error message\n"
      ],
      "metadata": {
        "colab": {
          "base_uri": "https://localhost:8080/"
        },
        "id": "skrvlHKawUtf",
        "outputId": "6d7b5eb5-f777-40be-bc74-0a879c957061"
      },
      "execution_count": 9,
      "outputs": [
        {
          "output_type": "stream",
          "name": "stdout",
          "text": [
            "Request successful!\n",
            "Request successful!\n",
            "Request successful!\n",
            "Request successful!\n",
            "Request successful!\n",
            "Request successful!\n",
            "Request successful!\n",
            "Request successful!\n",
            "Request successful!\n",
            "Request successful!\n",
            "Request successful!\n",
            "Request successful!\n",
            "Request successful!\n",
            "Request successful!\n",
            "Request successful!\n",
            "Request successful!\n",
            "Request successful!\n",
            "Request successful!\n",
            "Request successful!\n",
            "Request successful!\n",
            "Request successful!\n",
            "Request successful!\n",
            "Request successful!\n",
            "Request successful!\n",
            "Request successful!\n",
            "Request successful!\n",
            "Request successful!\n",
            "Request successful!\n",
            "Request successful!\n",
            "Request successful!\n",
            "Request successful!\n",
            "Request successful!\n",
            "Request successful!\n",
            "Request successful!\n",
            "Request successful!\n",
            "Request successful!\n"
          ]
        }
      ]
    },
    {
      "cell_type": "code",
      "source": [
        "!zip -r /content/data.zip /content/data"
      ],
      "metadata": {
        "colab": {
          "base_uri": "https://localhost:8080/"
        },
        "id": "J-7H_d_Uxydc",
        "outputId": "78cb0572-4701-4bd9-e835-cd3d3c60d248"
      },
      "execution_count": 10,
      "outputs": [
        {
          "output_type": "stream",
          "name": "stdout",
          "text": [
            "  adding: content/data/ (stored 0%)\n",
            "  adding: content/data/250.geojson (deflated 89%)\n",
            "  adding: content/data/0.geojson (deflated 90%)\n",
            "  adding: content/data/270.geojson (deflated 89%)\n",
            "  adding: content/data/130.geojson (deflated 89%)\n",
            "  adding: content/data/10.geojson (deflated 89%)\n",
            "  adding: content/data/220.geojson (deflated 89%)\n",
            "  adding: content/data/180.geojson (deflated 89%)\n",
            "  adding: content/data/170.geojson (deflated 89%)\n",
            "  adding: content/data/110.geojson (deflated 89%)\n",
            "  adding: content/data/50.geojson (deflated 89%)\n",
            "  adding: content/data/190.geojson (deflated 89%)\n",
            "  adding: content/data/300.geojson (deflated 89%)\n",
            "  adding: content/data/320.geojson (deflated 89%)\n",
            "  adding: content/data/120.geojson (deflated 89%)\n",
            "  adding: content/data/60.geojson (deflated 89%)\n",
            "  adding: content/data/160.geojson (deflated 89%)\n",
            "  adding: content/data/330.geojson (deflated 89%)\n",
            "  adding: content/data/280.geojson (deflated 89%)\n",
            "  adding: content/data/70.geojson (deflated 89%)\n",
            "  adding: content/data/80.geojson (deflated 89%)\n",
            "  adding: content/data/30.geojson (deflated 89%)\n",
            "  adding: content/data/210.geojson (deflated 89%)\n",
            "  adding: content/data/40.geojson (deflated 89%)\n",
            "  adding: content/data/350.geojson (deflated 89%)\n",
            "  adding: content/data/290.geojson (deflated 89%)\n",
            "  adding: content/data/90.geojson (deflated 89%)\n",
            "  adding: content/data/340.geojson (deflated 89%)\n",
            "  adding: content/data/140.geojson (deflated 89%)\n",
            "  adding: content/data/100.geojson (deflated 89%)\n",
            "  adding: content/data/230.geojson (deflated 89%)\n",
            "  adding: content/data/20.geojson (deflated 89%)\n",
            "  adding: content/data/150.geojson (deflated 89%)\n",
            "  adding: content/data/310.geojson (deflated 89%)\n",
            "  adding: content/data/200.geojson (deflated 89%)\n",
            "  adding: content/data/260.geojson (deflated 89%)\n",
            "  adding: content/data/240.geojson (deflated 89%)\n"
          ]
        }
      ]
    }
  ]
}
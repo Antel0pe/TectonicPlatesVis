{
  "nbformat": 4,
  "nbformat_minor": 0,
  "metadata": {
    "colab": {
      "provenance": []
    },
    "kernelspec": {
      "name": "python3",
      "display_name": "Python 3"
    },
    "language_info": {
      "name": "python"
    }
  },
  "cells": [
    {
      "cell_type": "code",
      "execution_count": 6,
      "metadata": {
        "id": "qLuFhZSZ1c2R"
      },
      "outputs": [],
      "source": [
        "import requests\n",
        "import os\n",
        "\n",
        "url = lambda time: f\"https://gws.gplates.org/topology/plate_polygons?time={time}&model=ZAHIROVIC2022\"\n",
        "output_path = \"/content/platePolygons/\"\n",
        "\n",
        "# Ensure the directory exists\n",
        "os.makedirs(os.path.dirname(output_path), exist_ok=True)"
      ]
    },
    {
      "cell_type": "code",
      "source": [
        "for t in range(0,410+1,10):\n",
        "    try:\n",
        "        response = requests.get(url(t))\n",
        "        response.raise_for_status()  # Raise HTTPError for bad responses (4xx or 5xx)\n",
        "\n",
        "        with open(f'{output_path}{t}.geojson', \"w\") as f:\n",
        "            f.write(response.text)\n",
        "\n",
        "        print(f\"Successfully saved data to {t}.geojson\")\n",
        "\n",
        "    except requests.exceptions.RequestException as e:\n",
        "        print(f\"Error fetching or saving data: {e}\")"
      ],
      "metadata": {
        "colab": {
          "base_uri": "https://localhost:8080/"
        },
        "id": "gperMVdJ18Br",
        "outputId": "ae210446-8650-4b4c-c8e6-bbc60086e182"
      },
      "execution_count": 7,
      "outputs": [
        {
          "output_type": "stream",
          "name": "stdout",
          "text": [
            "Successfully saved data to 0.geojson\n",
            "Successfully saved data to 10.geojson\n",
            "Successfully saved data to 20.geojson\n",
            "Successfully saved data to 30.geojson\n",
            "Successfully saved data to 40.geojson\n",
            "Successfully saved data to 50.geojson\n",
            "Successfully saved data to 60.geojson\n",
            "Successfully saved data to 70.geojson\n",
            "Successfully saved data to 80.geojson\n",
            "Successfully saved data to 90.geojson\n",
            "Successfully saved data to 100.geojson\n",
            "Successfully saved data to 110.geojson\n",
            "Successfully saved data to 120.geojson\n",
            "Successfully saved data to 130.geojson\n",
            "Successfully saved data to 140.geojson\n",
            "Successfully saved data to 150.geojson\n",
            "Successfully saved data to 160.geojson\n",
            "Successfully saved data to 170.geojson\n",
            "Successfully saved data to 180.geojson\n",
            "Successfully saved data to 190.geojson\n",
            "Successfully saved data to 200.geojson\n",
            "Successfully saved data to 210.geojson\n",
            "Successfully saved data to 220.geojson\n",
            "Successfully saved data to 230.geojson\n",
            "Successfully saved data to 240.geojson\n",
            "Successfully saved data to 250.geojson\n",
            "Successfully saved data to 260.geojson\n",
            "Successfully saved data to 270.geojson\n",
            "Successfully saved data to 280.geojson\n",
            "Successfully saved data to 290.geojson\n",
            "Successfully saved data to 300.geojson\n",
            "Successfully saved data to 310.geojson\n",
            "Successfully saved data to 320.geojson\n",
            "Successfully saved data to 330.geojson\n",
            "Successfully saved data to 340.geojson\n",
            "Successfully saved data to 350.geojson\n",
            "Successfully saved data to 360.geojson\n",
            "Successfully saved data to 370.geojson\n",
            "Successfully saved data to 380.geojson\n",
            "Successfully saved data to 390.geojson\n",
            "Successfully saved data to 400.geojson\n",
            "Successfully saved data to 410.geojson\n"
          ]
        }
      ]
    },
    {
      "cell_type": "code",
      "source": [
        "!zip -r platePolygons.zip /content/platePolygons"
      ],
      "metadata": {
        "colab": {
          "base_uri": "https://localhost:8080/"
        },
        "id": "8m8YmF8e2mZX",
        "outputId": "44264138-1555-4a14-96e6-3df931085755"
      },
      "execution_count": 8,
      "outputs": [
        {
          "output_type": "stream",
          "name": "stdout",
          "text": [
            "  adding: content/platePolygons/ (stored 0%)\n",
            "  adding: content/platePolygons/170.geojson (deflated 67%)\n",
            "  adding: content/platePolygons/60.geojson (deflated 67%)\n",
            "  adding: content/platePolygons/200.geojson (deflated 68%)\n",
            "  adding: content/platePolygons/90.geojson (deflated 67%)\n",
            "  adding: content/platePolygons/350.geojson (deflated 70%)\n",
            "  adding: content/platePolygons/400.geojson (deflated 71%)\n",
            "  adding: content/platePolygons/270.geojson (deflated 70%)\n",
            "  adding: content/platePolygons/130.geojson (deflated 67%)\n",
            "  adding: content/platePolygons/310.geojson (deflated 71%)\n",
            "  adding: content/platePolygons/70.geojson (deflated 67%)\n",
            "  adding: content/platePolygons/250.geojson (deflated 68%)\n",
            "  adding: content/platePolygons/370.geojson (deflated 69%)\n",
            "  adding: content/platePolygons/320.geojson (deflated 71%)\n",
            "  adding: content/platePolygons/260.geojson (deflated 71%)\n",
            "  adding: content/platePolygons/160.geojson (deflated 67%)\n",
            "  adding: content/platePolygons/100.geojson (deflated 67%)\n",
            "  adding: content/platePolygons/20.geojson (deflated 67%)\n",
            "  adding: content/platePolygons/390.geojson (deflated 69%)\n",
            "  adding: content/platePolygons/410.geojson (deflated 71%)\n",
            "  adding: content/platePolygons/30.geojson (deflated 68%)\n",
            "  adding: content/platePolygons/380.geojson (deflated 70%)\n",
            "  adding: content/platePolygons/330.geojson (deflated 69%)\n",
            "  adding: content/platePolygons/220.geojson (deflated 69%)\n",
            "  adding: content/platePolygons/40.geojson (deflated 68%)\n",
            "  adding: content/platePolygons/210.geojson (deflated 68%)\n",
            "  adding: content/platePolygons/230.geojson (deflated 69%)\n",
            "  adding: content/platePolygons/10.geojson (deflated 71%)\n",
            "  adding: content/platePolygons/190.geojson (deflated 68%)\n",
            "  adding: content/platePolygons/300.geojson (deflated 71%)\n",
            "  adding: content/platePolygons/340.geojson (deflated 71%)\n",
            "  adding: content/platePolygons/180.geojson (deflated 68%)\n",
            "  adding: content/platePolygons/150.geojson (deflated 68%)\n",
            "  adding: content/platePolygons/50.geojson (deflated 67%)\n",
            "  adding: content/platePolygons/140.geojson (deflated 68%)\n",
            "  adding: content/platePolygons/240.geojson (deflated 70%)\n",
            "  adding: content/platePolygons/120.geojson (deflated 68%)\n",
            "  adding: content/platePolygons/290.geojson (deflated 71%)\n",
            "  adding: content/platePolygons/80.geojson (deflated 67%)\n",
            "  adding: content/platePolygons/110.geojson (deflated 67%)\n",
            "  adding: content/platePolygons/360.geojson (deflated 70%)\n",
            "  adding: content/platePolygons/280.geojson (deflated 71%)\n",
            "  adding: content/platePolygons/0.geojson (deflated 71%)\n"
          ]
        }
      ]
    }
  ]
}